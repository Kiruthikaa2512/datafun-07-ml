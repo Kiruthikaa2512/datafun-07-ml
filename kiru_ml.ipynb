{
 "cells": [
  {
   "cell_type": "markdown",
   "id": "91359e7d",
   "metadata": {},
   "source": [
    "# Predictive ML Project\n",
    "**Author**: Kiruthikaa NS\n",
    "**Repo Name**: `datafun-07-ml`\n",
    "**Date**: June 2025  \n",
    "**GitHub Repo**: [View this project on GitHub](https://github.com/Kiruthikaa2512/datafun-07-ml/kiru_ml.ipynb)  \n"
   ]
  },
  {
   "cell_type": "code",
   "execution_count": 1,
   "id": "636cda52",
   "metadata": {},
   "outputs": [],
   "source": [
    "import numpy as np\n",
    "import pandas as pd\n",
    "import matplotlib.pyplot as plt\n",
    "from scipy import stats"
   ]
  }
 ],
 "metadata": {
  "kernelspec": {
   "display_name": ".venv",
   "language": "python",
   "name": "python3"
  },
  "language_info": {
   "codemirror_mode": {
    "name": "ipython",
    "version": 3
   },
   "file_extension": ".py",
   "mimetype": "text/x-python",
   "name": "python",
   "nbconvert_exporter": "python",
   "pygments_lexer": "ipython3",
   "version": "3.9.13"
  }
 },
 "nbformat": 4,
 "nbformat_minor": 5
}
